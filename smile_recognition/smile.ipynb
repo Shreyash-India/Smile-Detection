{
 "cells": [
  {
   "cell_type": "markdown",
   "id": "ac1b3c27",
   "metadata": {},
   "source": [
    "# Face Recognition & Smile Detection"
   ]
  },
  {
   "cell_type": "code",
   "execution_count": null,
   "id": "81f2efe2",
   "metadata": {},
   "outputs": [],
   "source": [
    "import cv2\n",
    "\n",
    "video = cv2.VideoCapture(r'C:\\Users\\KIIT\\Tensorflow\\Smile_capture\\smile_recognition\\Video1.mp4')\n",
    "faceCascade = cv2.CascadeClassifier(r'C:\\Users\\KIIT\\Tensorflow\\Smile_capture\\smile_recognition\\dataset\\haarcascade_frontalface_default.xml')\n",
    "smileCascade = cv2.CascadeClassifier(r'C:\\Users\\KIIT\\Tensorflow\\Smile_capture\\smile_recognition\\dataset\\dataset\\haarcascade_smile.xml')\n",
    "\n",
    "while True:\n",
    "    success, img = video.read()\n",
    "    grayImg = cv2.cvtColor(img, cv2.COLOR_BGR2GRAY)\n",
    "    faces = faceCascade.detectMultiScale(grayImg, 1.1, 4)\n",
    "    cnt = 1\n",
    "    \n",
    "    for x, y, w, h in faces:\n",
    "        img = cv2.rectangle(img,(x, y), (x+w, y+h), (0,0,0), 3)\n",
    "        smiles = smileCascade.detectMultiScale(grayImg, 1.8, 15)\n",
    "        for x, y , w, h in smiles:\n",
    "            img = cv2.rectangle(img, (x,y),(x+w, y+h), (0,255,255), 2)\n",
    "            path = r'C:\\Users\\KIIT\\Tensorflow\\Smile_capture\\smile_recognition\\images\\img' + str(cnt) + '.jpg'\n",
    "            cv2.imwrite(path, img)\n",
    "            cnt +=1\n",
    "                \n",
    "    cv2.imshow('live video', img)\n",
    "    keyPressed = cv2.waitKey(1)\n",
    "    \n",
    "    ## Press esc to Exit\n",
    "    if(keyPressed==27): \n",
    "        break\n",
    "        \n",
    "video.release()                                 \n",
    "cv2.destroyAllWindows() "
   ]
  }
 ],
 "metadata": {
  "kernelspec": {
   "display_name": "Python 3 (ipykernel)",
   "language": "python",
   "name": "python3"
  },
  "language_info": {
   "codemirror_mode": {
    "name": "ipython",
    "version": 3
   },
   "file_extension": ".py",
   "mimetype": "text/x-python",
   "name": "python",
   "nbconvert_exporter": "python",
   "pygments_lexer": "ipython3",
   "version": "3.7.11"
  }
 },
 "nbformat": 4,
 "nbformat_minor": 5
}
